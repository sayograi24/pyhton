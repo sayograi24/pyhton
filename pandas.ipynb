{
 "cells": [
  {
   "cell_type": "code",
   "execution_count": 16,
   "metadata": {},
   "outputs": [],
   "source": [
    "import pandas as pd"
   ]
  },
  {
   "cell_type": "code",
   "execution_count": 17,
   "metadata": {},
   "outputs": [
    {
     "name": "stdout",
     "output_type": "stream",
     "text": [
      "--------------------------------------------------\n",
      "Name     Sita\n",
      "Age        24\n",
      "Score      90\n",
      "Name: 1, dtype: object\n",
      "--------------------------------------------------\n",
      "   Name  Age  Score\n",
      "0   Ram   28     85\n",
      "2  Hari   35     78\n",
      "--------------------------------------------------\n",
      "   Name  Age  Score\n",
      "0   Ram   28     85\n",
      "1  Sita   24     90\n",
      "2  Hari   35     78\n",
      "--------------------------------------------------\n",
      "0     Ram\n",
      "1    Sita\n",
      "2    Hari\n",
      "Name: Name, dtype: object\n",
      "--------------------------------------------------\n",
      "   Name  Age\n",
      "0   Ram   28\n",
      "1  Sita   24\n",
      "2  Hari   35\n"
     ]
    }
   ],
   "source": [
    "data = {'Name': ['Ram', 'Sita', 'Hari'], 'Age': [28, 24, 35], 'Score': [85, 90, 78]}\n",
    "df = pd.DataFrame(data)\n",
    "print(\"-\"*50)\n",
    "print(df.loc[1])\n",
    "\n",
    "print(\"-\"*50)\n",
    "print(df.loc[[0, 2]])\n",
    "\n",
    "print(\"-\"*50)\n",
    "print(df.loc[0:2])\n",
    "\n",
    "print(\"-\"*50)\n",
    "print(df.loc[:, 'Name'])\n",
    "\n",
    "\n",
    "print(\"-\"*50)\n",
    "print(df.loc[:, ['Name', 'Age']])\n",
    "\n",
    "# print(\"-\"*50)\n",
    "# print(df.loc[0:2, 'Name':'Age'])\n"
   ]
  }
 ],
 "metadata": {
  "kernelspec": {
   "display_name": "Python 3",
   "language": "python",
   "name": "python3"
  },
  "language_info": {
   "codemirror_mode": {
    "name": "ipython",
    "version": 3
   },
   "file_extension": ".py",
   "mimetype": "text/x-python",
   "name": "python",
   "nbconvert_exporter": "python",
   "pygments_lexer": "ipython3",
   "version": "3.11.9"
  }
 },
 "nbformat": 4,
 "nbformat_minor": 2
}
